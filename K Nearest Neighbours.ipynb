{
 "cells": [
  {
   "cell_type": "markdown",
   "metadata": {},
   "source": [
    "# Object"
   ]
  },
  {
   "cell_type": "markdown",
   "metadata": {},
   "source": [
    "> Course"
   ]
  },
  {
   "cell_type": "code",
   "execution_count": 48,
   "metadata": {},
   "outputs": [],
   "source": [
    "class course(object):\n",
    "\n",
    "    def __init__(self, cid, credit, dept):\n",
    "        \"\"\"\n",
    "        >> course id\n",
    "        >> the no. of credits\n",
    "        >> department\n",
    "        \"\"\"\n",
    "        self.cid = cid\n",
    "        self.credit = credit\n",
    "        self.dept = dept\n",
    "\n",
    "    def change_credit(self, new_credit):\n",
    "        \"\"\"Change the number of credits\"\"\"\n",
    "\n",
    "        self.credit = new_credit\n",
    "\n",
    "class GE_course(course):\n",
    "    def __init__(self, cid, credit, dept, subj_group):\n",
    "        \"\"\"In addition to the course parameters, GE_course object has another attributes called subj_group\"\"\"\n",
    "\n",
    "        \"\"\"Initialize the parent class\"\"\"\n",
    "        super(GE_course, self).__init__(cid, credit, dept)\n",
    "\n",
    "        self.subj_group = subj_group\n"
   ]
  },
  {
   "cell_type": "code",
   "execution_count": 49,
   "metadata": {},
   "outputs": [],
   "source": [
    "course1 = course('CS1102', 3, 'CS')\n",
    "course2 = course('MA1508', 4, 'Math')\n",
    "course3 = GE_course('GE2340', 2, 'CS', 'Science&Tech')\n",
    "course3.change_credit(3)"
   ]
  },
  {
   "cell_type": "code",
   "execution_count": 50,
   "metadata": {},
   "outputs": [
    {
     "name": "stdout",
     "output_type": "stream",
     "text": [
      "True\n",
      "False\n",
      "True\n",
      "True\n"
     ]
    }
   ],
   "source": [
    "print(isinstance(course1, course))\n",
    "print(isinstance(course1, GE_course))\n",
    "print(isinstance(course3, course))\n",
    "print(isinstance(course3, GE_course))"
   ]
  },
  {
   "cell_type": "markdown",
   "metadata": {},
   "source": [
    "> student"
   ]
  },
  {
   "cell_type": "code",
   "execution_count": 51,
   "metadata": {},
   "outputs": [],
   "source": [
    "class student(object):\n",
    "\n",
    "    def __init__(self, sid, dept):\n",
    "        \"\"\"\n",
    "        >> sid\n",
    "        >> department\n",
    "        >> the list of courses taken\n",
    "        >> dictionary mapping to the course to the courses_grades_dict\n",
    "        \"\"\"\n",
    "\n",
    "        self.sid = sid\n",
    "        self.dept = dept\n",
    "\n",
    "        self.courses = []\n",
    "        self.courses_grades_dict = {}\n",
    "\n",
    "    def register_course(self, course):\n",
    "        \"\"\"\n",
    "        >> Append course to the list\n",
    "        >> Add courses in the courses_grades_dict\n",
    "        \"\"\"\n",
    "\n",
    "        self.courses.append(course)\n",
    "        self.courses_grades_dict[course] = None\n",
    "\n",
    "    def register_grade(self, course, grade):\n",
    "        \"\"\"\n",
    "        >> Error arises when the course not exist in the dict\n",
    "        >> update corresponding grades to the course in the dict\n",
    "        \"\"\"\n",
    "\n",
    "        if course not in self.courses_grades_dict:\n",
    "            print(f\"Error: student {self.sid} did not register the course - {course}\")\n",
    "\n",
    "        else:\n",
    "            self.courses_grades_dict[course] = grade\n",
    "\n",
    "    def calculate_overall_gpa(self):\n",
    "\n",
    "        total_credit = 0\n",
    "        total_credit_grade_product = 0\n",
    "\n",
    "        for course in self.courses_grades_dict:\n",
    "            if self.courses_grades_dict[course] == None: #the course is registered but no grade available\n",
    "                continue\n",
    "\n",
    "            credit = course.credit\n",
    "            grade = self.courses_grades_dict[course]\n",
    "            total_credit = total_credit + credit\n",
    "            total_credit_grade_product = total_credit_grade_product + credit * grade\n",
    "\n",
    "        if total_credit == 0:\n",
    "            print(f\"student ({self.sid}) did not complete any course.\")\n",
    "\n",
    "        else:\n",
    "            gpa = total_credit_grade_product / total_credit\n",
    "            print(f\"The GPA of the student ({self.sid}) is {gpa:.2F}\")\n",
    "\n",
    "    def calculate_GE_gpa(self, subj_group = None):\n",
    "        \"\"\"Calculate the GE course GPA within a subject group\"\"\"\n",
    "\n",
    "        total_credit = 0\n",
    "        total_credit_grade_product = 0\n",
    "\n",
    "        for course in self.courses_grades_dict:\n",
    "            \n",
    "            if self.courses_grades_dict[course] == None:\n",
    "                continue\n",
    "            \n",
    "            if isinstance(course, GE_course) == False:\n",
    "                continue\n",
    "\n",
    "            if subj_group is None or course.subj_group == subj_group: # No group specify or within the subject group\n",
    "                credit = course.credit\n",
    "                grade = self.courses_grades_dict[course]\n",
    "                total_credit = total_credit + credit\n",
    "                total_credit_grade_product = total_credit_grade_product + credit * grade\n",
    "\n",
    "        if total_credit == 0:\n",
    "            print(f\"student ({self.sid}) did not complete any GE course of the subject group ({subj_group})\")\n",
    "\n",
    "        else:\n",
    "            gpa = total_credit_grade_product / total_credit\n",
    "            print(f\"The GPA of the GE course of the subject group - ({subj_group}) of the student ({self.sid}) is {gpa:.2F}\")\n"
   ]
  },
  {
   "cell_type": "code",
   "execution_count": 52,
   "metadata": {},
   "outputs": [
    {
     "name": "stdout",
     "output_type": "stream",
     "text": [
      "student (57158416) did not complete any course.\n",
      "student (57158416) did not complete any GE course of the subject group (None)\n",
      "The GPA of the GE course of the subject group - (None) of the student (57158416) is 4.30\n",
      "The GPA of the student (57158416) is 3.97\n"
     ]
    }
   ],
   "source": [
    "student1 = student('57158416', 'CS')\n",
    "student1.register_course(course1)\n",
    "student1.register_course(course2)\n",
    "student1.register_course(course3)\n",
    "\n",
    "student1.calculate_overall_gpa()\n",
    "student1.register_grade(course1, 4)\n",
    "student1.register_grade(course2, 3.7)\n",
    "student1.calculate_GE_gpa()\n",
    "student1.register_grade(course3, 4.3)\n",
    "student1.calculate_GE_gpa()\n",
    "student1.calculate_overall_gpa()"
   ]
  },
  {
   "cell_type": "markdown",
   "metadata": {},
   "source": [
    "### Exercise\n",
    "Write a class called \"department\", consisting of students. It has two functions: \"num_of_student\" returns the number of students and \"dept_gpa\" returns the average GPA of all students."
   ]
  },
  {
   "cell_type": "markdown",
   "metadata": {},
   "source": [
    "# Nearest Neighbours"
   ]
  },
  {
   "cell_type": "code",
   "execution_count": 53,
   "metadata": {},
   "outputs": [],
   "source": [
    "import numpy as np\n",
    "import matplotlib.pyplot as plt\n",
    "\n",
    "class Nearest_Neighbours(object):\n",
    "\n",
    "    def __init__(self, num_of_points):\n",
    "        \"\"\"A matrix generated randomly, each row refers to a point\"\"\"\n",
    "\n",
    "        self.red_points = np.random.rand(num_of_points, 2)\n",
    "        self.green_points = np.random.rand(num_of_points, 2)\n",
    "\n",
    "    def classify(self, point):\n",
    "\n",
    "        \"\"\"Contruct a np.array\"\"\"\n",
    "        point = np.array(point)\n",
    "\n",
    "        \"\"\"Plot the scattered points\"\"\"\n",
    "        plt.scatter(self.red_points[:,0], self.red_points[:,1], c='r', s=3)\n",
    "        plt.scatter(self.green_points[:,0], self.green_points[:,1], c='g', s=3)\n",
    "\n",
    "        \"\"\"Calculate the distance between the point and the archor points (l2 norm)\"\"\"\n",
    "        red_dist = np.linalg.norm(self.red_points - point.reshape(1,2), axis=1)\n",
    "        green_dist = np.linalg.norm(self.green_points - point.reshape(1,2), axis=1)\n",
    "\n",
    "        \"\"\"Calculate the smallest value\"\"\"\n",
    "        min_red_dist = red_dist.min()\n",
    "        min_green_dist = green_dist.min()\n",
    "\n",
    "        \"\"\"\n",
    "        >> Get the index of all the shortest distance points\n",
    "        >> plot the point as 'x'\n",
    "        >> draw a between the point and the shortest distance point\n",
    "        \"\"\"\n",
    "\n",
    "        if min_red_dist < min_green_dist:\n",
    "\n",
    "            index = np.argmin(red_dist)\n",
    "            plt.scatter(point[0], point[1], c='r', s=30, marker='x')\n",
    "            plt.plot([point[0], self.red_points[index, 0]], [point[1], self.red_points[index,1]], c='r', alpha=0.1)\n",
    "\n",
    "        else:\n",
    "            index = np.argmin(green_dist)\n",
    "            plt.scatter(point[0], point[1], c='g', s=30, marker='x')\n",
    "            plt.plot([point[0], self.green_points[index, 0]], [point[1], self.green_points[index,1]], c='g', alpha=0.1)"
   ]
  },
  {
   "cell_type": "code",
   "execution_count": 54,
   "metadata": {},
   "outputs": [
    {
     "data": {
      "image/png": "[encoded data removed]",
      "text/plain": [
       "<Figure size 432x288 with 1 Axes>"
      ]
     },
     "metadata": {
      "needs_background": "light"
     },
     "output_type": "display_data"
    }
   ],
   "source": [
    "NN_classifier = Nearest_Neighbours(5)\n",
    "NN_classifier.classify([0.5,0.5])"
   ]
  },
  {
   "cell_type": "markdown",
   "metadata": {},
   "source": [
    "### Execrise\n",
    "\n",
    "Extend the nearest neighbour to the K nearest neighbour, with K as a parameter of the classifier."
   ]
  },
  {
   "cell_type": "code",
   "execution_count": 55,
   "metadata": {},
   "outputs": [],
   "source": [
    "import numpy as np\n",
    "import matplotlib.pyplot as plt\n",
    "\n",
    "class NN_K(object):\n",
    "\n",
    "    def __init__(self, num_of_points):\n",
    "\n",
    "        self.red_points = np.random.rand(num_of_points, 2)\n",
    "        self.green_points = np.random.rand(num_of_points, 2)\n",
    "\n",
    "    def classify(self, point, K):\n",
    "        \n",
    "        \"\"\"Construct a np.array object\"\"\"\n",
    "        point = np.array(point)\n",
    "\n",
    "        \"\"\"plot the random generated points\"\"\"\n",
    "        plt.scatter(self.red_points[:,0], self.red_points[:,1], c='r', s=3)\n",
    "        plt.scatter(self.green_points[:,0], self.green_points[:,1], c='g', s=3)\n",
    "        \n",
    "        \"\"\"using loop to iterate K nearest points\"\"\"\n",
    "        k_points = []\n",
    "        count_red = 0\n",
    "        count_green = 0\n",
    "        for i in range(K):\n",
    "            \n",
    "            \"\"\"Distance from points to the archor point\"\"\"\n",
    "            red_point_dist = np.linalg.norm(self.red_points - point.reshape(1,2), axis=1)\n",
    "            green_point_dist = np.linalg.norm(self.green_points - point.reshape(1,2), axis=1)\n",
    "\n",
    "            \"\"\"smallest value of each group\"\"\"\n",
    "            min_red_dist = red_point_dist.min()\n",
    "            min_green_dist = green_point_dist.min()\n",
    "\n",
    "            \n",
    "            if min_red_dist < min_green_dist:\n",
    "                \"\"\"get the index of the shortest distance point\"\"\"\n",
    "                smallest_val_idx = np.argmin(red_point_dist)\n",
    "                k_points.append(self.red_points[smallest_val_idx])\n",
    "                self.red_points = np.delete(self.red_points, smallest_val_idx, axis=0)\n",
    "                count_red += 1\n",
    "\n",
    "            else:\n",
    "                smallest_val_idx = np.argmin(green_point_dist)\n",
    "                k_points.append(self.green_points[smallest_val_idx])\n",
    "                self.green_points = np.delete(self.green_points, smallest_val_idx, axis=0)\n",
    "                count_green +=1\n",
    "\n",
    "        \"\"\"Concate k_points list to K_points array\"\"\"\n",
    "        k_points_array = np.vstack(k_points)\n",
    "\n",
    "        \"\"\"Plot the line between selected point \"\"\"\n",
    "        for select_point in k_points_array:\n",
    "            if count_red > count_green:\n",
    "                plt.scatter(point[0], point[1], c='r', s=30, marker='x')\n",
    "                plt.plot([point[0],select_point[0]], [point[1],select_point[1]], c='r', alpha=0.1)\n",
    "\n",
    "            else:\n",
    "                plt.scatter(point[0], point[1], c='g', s=30, marker='x')\n",
    "                plt.plot([point[0],select_point[0]], [point[1],select_point[1]], c='g', alpha=0.1)"
   ]
  },
  {
   "cell_type": "code",
   "execution_count": 56,
   "metadata": {},
   "outputs": [
    {
     "data": {
      "image/png": "[encoded data removed]",
      "text/plain": [
       "<Figure size 432x288 with 1 Axes>"
      ]
     },
     "metadata": {
      "needs_background": "light"
     },
     "output_type": "display_data"
    }
   ],
   "source": [
    "NN_classifierK = NN_K(50)\n",
    "NN_classifierK.classify([0.5,0.5], 10)"
   ]
  },
  {
   "cell_type": "code",
   "execution_count": null,
   "metadata": {},
   "outputs": [],
   "source": []
  }
 ],
 "metadata": {
  "kernelspec": {
   "display_name": "base",
   "language": "python",
   "name": "python3"
  },
  "language_info": {
   "codemirror_mode": {
    "name": "ipython",
    "version": 3
   },
   "file_extension": ".py",
   "mimetype": "text/x-python",
   "name": "python",
   "nbconvert_exporter": "python",
   "pygments_lexer": "ipython3",
   "version": "3.9.12"
  },
  "orig_nbformat": 4
 },
 "nbformat": 4,
 "nbformat_minor": 2
}
